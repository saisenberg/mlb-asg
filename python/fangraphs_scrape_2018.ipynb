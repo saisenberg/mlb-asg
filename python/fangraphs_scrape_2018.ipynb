{
 "cells": [
  {
   "cell_type": "code",
   "execution_count": 1,
   "metadata": {},
   "outputs": [],
   "source": [
    "import numpy as np\n",
    "import pandas as pd\n",
    "\n",
    "import requests\n",
    "from bs4 import BeautifulSoup"
   ]
  },
  {
   "cell_type": "code",
   "execution_count": 2,
   "metadata": {},
   "outputs": [],
   "source": [
    "def firstHalf(year):\n",
    "    \n",
    "    url = 'https://www.fangraphs.com/leaders.aspx?pos=all&stats=bat&lg=all&qual=200&type=8&season=' + str(year) + '&month=30&season1=' + str(year) + '&ind=0&team=0&rost=0&age=0&filter=&players=0&page=1_500'\n",
    "    response = requests.get(url)\n",
    "    soup = BeautifulSoup(response.text, 'lxml')\n",
    "    \n",
    "    # Collect headers (should be uniform)\n",
    "    headers = []\n",
    "    for header in soup.find_all('th', {'class':['rgHeader']}):\n",
    "        headers.append(header.get_text())\n",
    "    headers = [header for header in headers if header not in ['#', 'Name', 'Team']]\n",
    "    \n",
    "    # Collect player stats\n",
    "    players = soup.find_all('tr', {'class':['rgRow', 'rgAltRow']})\n",
    "    players_dict = {}\n",
    "    for player in players:\n",
    "        name = player.find_all('a', {'href':True})[0].get_text()\n",
    "        try:\n",
    "            team = player.find_all('a', {'href':True})[1].get_text()\n",
    "        except:\n",
    "            team = 'Multiple'\n",
    "        players_dict[name] = {}\n",
    "        players_dict[name]['team'] = team\n",
    "        for num, stat in enumerate(player.find_all('td', {'class':['grid_line_regular', 'grid_line_break']})[3:]):\n",
    "            players_dict[name][headers[num]] = stat.get_text()\n",
    "            \n",
    "    return(players_dict)"
   ]
  },
  {
   "cell_type": "code",
   "execution_count": 3,
   "metadata": {
    "scrolled": true
   },
   "outputs": [],
   "source": [
    "# Scrape past thirty years\n",
    "run = True\n",
    "if run == True:\n",
    "    master_dict = {}\n",
    "    for year in range(2018,2018+1):\n",
    "        master_dict[year] = firstHalf(year)"
   ]
  },
  {
   "cell_type": "code",
   "execution_count": 4,
   "metadata": {},
   "outputs": [],
   "source": [
    "# Concatenate all season dfs\n",
    "master_df = pd.DataFrame()\n",
    "for year in master_dict:\n",
    "    year_df = pd.DataFrame.from_dict(master_dict[year]).transpose().reset_index().rename(columns={'index':'player'})\n",
    "    year_df['year'] = year\n",
    "    master_df = pd.concat([master_df, year_df], axis = 0)"
   ]
  },
  {
   "cell_type": "code",
   "execution_count": 5,
   "metadata": {},
   "outputs": [],
   "source": [
    "# Change types of columns\n",
    "master_df['BB%'] = master_df.apply(lambda x: x['BB%'].replace(' %', ''), axis=1)\n",
    "master_df['K%'] = master_df.apply(lambda x: x['K%'].replace(' %', ''), axis=1)\n",
    "floatcols = master_df.columns.drop(['player', 'team'])\n",
    "master_df[floatcols] = master_df[floatcols].apply(pd.to_numeric)"
   ]
  },
  {
   "cell_type": "code",
   "execution_count": 6,
   "metadata": {},
   "outputs": [],
   "source": [
    "master_df.to_csv('.\\\\data\\\\fangraphs_scraped_2018.csv')"
   ]
  }
 ],
 "metadata": {
  "kernelspec": {
   "display_name": "Python 3",
   "language": "python",
   "name": "python3"
  },
  "language_info": {
   "codemirror_mode": {
    "name": "ipython",
    "version": 3
   },
   "file_extension": ".py",
   "mimetype": "text/x-python",
   "name": "python",
   "nbconvert_exporter": "python",
   "pygments_lexer": "ipython3",
   "version": "3.6.5"
  }
 },
 "nbformat": 4,
 "nbformat_minor": 2
}
